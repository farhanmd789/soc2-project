{
  "nbformat": 4,
  "nbformat_minor": 0,
  "metadata": {
    "colab": {
      "provenance": [],
      "include_colab_link": true
    },
    "kernelspec": {
      "name": "python3",
      "display_name": "Python 3"
    },
    "language_info": {
      "name": "python"
    }
  },
  "cells": [
    {
      "cell_type": "markdown",
      "metadata": {
        "id": "view-in-github",
        "colab_type": "text"
      },
      "source": [
        "<a href=\"https://colab.research.google.com/github/farhanmd789/soc2-project/blob/main/The_Hindunews.ipynb\" target=\"_parent\"><img src=\"https://colab.research.google.com/assets/colab-badge.svg\" alt=\"Open In Colab\"/></a>"
      ]
    },
    {
      "cell_type": "markdown",
      "source": [
        "WEBSCRAPPING using BeautifulSoup and scrapping the news headlines\n",
        "from articles"
      ],
      "metadata": {
        "id": "W9UO0IMQXZnl"
      }
    },
    {
      "cell_type": "code",
      "execution_count": null,
      "metadata": {
        "id": "2Ve1wPNY2ug_"
      },
      "outputs": [],
      "source": [
        "from bs4 import BeautifulSoup\n",
        "import requests\n",
        "a='https://www.thehindu.com/'\n",
        "page=requests.get(a)\n",
        "hcode=BeautifulSoup(page.text,'html')\n",
        "print(hcode)"
      ]
    },
    {
      "cell_type": "code",
      "source": [
        "#title\n",
        "headlines=hcode.find('title')\n",
        "print(headlines)"
      ],
      "metadata": {
        "colab": {
          "base_uri": "https://localhost:8080/"
        },
        "id": "aRnD5sHr3CU-",
        "outputId": "2499623d-45aa-47f2-e212-cd5423e2b1fd"
      },
      "execution_count": null,
      "outputs": [
        {
          "output_type": "stream",
          "name": "stdout",
          "text": [
            "<title>\n",
            "\tBreaking News Today, Top Headlines, Live Updates | The Hindu\n",
            "</title>\n"
          ]
        }
      ]
    },
    {
      "cell_type": "code",
      "source": [
        "#getting the current date\n",
        "current_date = datetime.now().strftime('%Y-%m-%d')"
      ],
      "metadata": {
        "id": "jy4m59LhZWcp"
      },
      "execution_count": null,
      "outputs": []
    },
    {
      "cell_type": "code",
      "source": [
        "headlines=hcode.find_all('h3')"
      ],
      "metadata": {
        "id": "ndmMQk9K3Wmx"
      },
      "execution_count": null,
      "outputs": []
    },
    {
      "cell_type": "code",
      "source": [
        "h=[]\n",
        "for i in headlines:\n",
        "  h.append(i.text)\n",
        "print(h)"
      ],
      "metadata": {
        "colab": {
          "base_uri": "https://localhost:8080/"
        },
        "id": "1JN6yOqr3XwU",
        "outputId": "75d58455-7f28-46b4-879a-c9c807e1cf52"
      },
      "execution_count": null,
      "outputs": [
        {
          "output_type": "stream",
          "name": "stdout",
          "text": [
            "['\\nTracking the northeast: new fiction by women and a history of the Kohima Battle\\n', '\\nWill the TDP-JSP alliance work out\\n', '\\nT.N.’s seat of power: never-ending talk of shifting Assembly-Secretariat complex\\n', '\\nReminiscences of an old Bangalore boy\\n', '\\nActor assault case: Kerala HC directs sessions judge to provide survivor a copy of fact-finding inquiry report\\n', '\\nShehbaz Sharif to be Pakistan PM, Zardari to be President\\n', '\\nIndians hired as Russian ‘army security helpers’ forced to fight on Ukraine border\\n', '\\nConstitutional lawyer and jurist Fali S. Nariman passes away\\n', '\\nISRO completes key test, CE20 cryogenic engine is now human-rated for Gaganyaan missions\\n', '\\nIndia, Greece looking at expanding economic engagement: Greek PM\\n', '\\nCalm assessment: On the extent of ‘deemed forest’\\n', '\\nKeep it wholesome: On shaping a national cervical cancer control programme\\n', '\\nThe real threat to the ‘India as we know it’\\n', '\\nJudicial clarity on free speech\\n', '\\nWill the TDP-JSP alliance work out\\n', '\\nCauvery pact: a controversial journey\\n', '\\nHaving panchayats as self-governing institutions\\n', '\\nGreece’s gateway to Asia, India’s gateway to Europe\\n', '\\nCrisis for Hungary’s Viktor Orban as President and Minister resign | Explained\\n', '\\nWhy was there a political deadlock in Northern Ireland? | Explained\\n', '\\nSC examines divorced Muslim women’s right to maintenance under Section 125 of the CrPC | Explained\\n', '\\nWhy have fresh protests erupted in Senegal? | Explained\\n', '\\nWhy OpenAI’s new video generator, Sora, is making a splash | Explained\\n', 'Bharatanatyam embraces strength training']\n"
          ]
        }
      ]
    },
    {
      "cell_type": "code",
      "source": [
        "import pandas as pd\n",
        "from datetime import date, datetime\n",
        "current_date = datetime.now().strftime('%Y-%m-%d')\n",
        "df=pd.DataFrame({'Date':[current_date]*len(h[1:12]),'THE HINDU':h[1:12]})\n",
        "print(current_date)\n",
        "print(df)"
      ],
      "metadata": {
        "colab": {
          "base_uri": "https://localhost:8080/"
        },
        "id": "IjMriPv83chx",
        "outputId": "64d8db13-7d4e-4df5-f091-90ec400af81d"
      },
      "execution_count": null,
      "outputs": [
        {
          "output_type": "stream",
          "name": "stdout",
          "text": [
            "2024-02-21\n",
            "          Date                                          THE HINDU\n",
            "0   2024-02-21             \\nWill the TDP-JSP alliance work out\\n\n",
            "1   2024-02-21  \\nT.N.’s seat of power: never-ending talk of s...\n",
            "2   2024-02-21          \\nReminiscences of an old Bangalore boy\\n\n",
            "3   2024-02-21  \\nActor assault case: Kerala HC directs sessio...\n",
            "4   2024-02-21  \\nShehbaz Sharif to be Pakistan PM, Zardari to...\n",
            "5   2024-02-21  \\nIndians hired as Russian ‘army security help...\n",
            "6   2024-02-21  \\nConstitutional lawyer and jurist Fali S. Nar...\n",
            "7   2024-02-21  \\nISRO completes key test, CE20 cryogenic engi...\n",
            "8   2024-02-21  \\nIndia, Greece looking at expanding economic ...\n",
            "9   2024-02-21  \\nCalm assessment: On the extent of ‘deemed fo...\n",
            "10  2024-02-21  \\nKeep it wholesome: On shaping a national cer...\n"
          ]
        }
      ]
    },
    {
      "cell_type": "code",
      "source": [
        "df.to_csv(\"thehindunewsheadlines.csv\")"
      ],
      "metadata": {
        "id": "lSGWFeERbNFi"
      },
      "execution_count": null,
      "outputs": []
    },
    {
      "cell_type": "code",
      "source": [
        "print(\"saved headlines to 'thehindunewsheadlines.csv'\")\n",
        "print(\"Date : \",current_date )\n"
      ],
      "metadata": {
        "colab": {
          "base_uri": "https://localhost:8080/"
        },
        "id": "KcJ2zugKc3Pv",
        "outputId": "f9040fa4-179b-4818-da0c-d2534d744bab"
      },
      "execution_count": null,
      "outputs": [
        {
          "output_type": "stream",
          "name": "stdout",
          "text": [
            "saved headlines to 'thehindunewsheadlines.csv'\n",
            "Date :  2024-02-21\n"
          ]
        }
      ]
    }
  ]
}